{
 "cells": [
  {
   "cell_type": "markdown",
   "metadata": {},
   "source": [
    "# Demo of `secop-ophyd` Integration \n",
    "\n",
    "This demo utilizes the samplechanger SEC node, and demonstrates the concurrent control and readout of EPICS Detectors and SECoP hardware.\n",
    "\n",
    "prerequisites:\n",
    "- a running instance ofURsim (see `/URsimDocker` directory) or the real UR3 robot samplechanger apparatus\n",
    "- the robot should be in `remote mode`\n",
    "    \n",
    "- a running SEC node for the samplechanger robot:\n",
    "    ```python3 frappy/bin/frappy-server -c frappy/cfg/UR_robot_cfg.py``` \n"
   ]
  },
  {
   "cell_type": "code",
   "execution_count": 1,
   "metadata": {},
   "outputs": [
    {
     "name": "stdout",
     "output_type": "stream",
     "text": [
      "sample_changer.HZB ready\n"
     ]
    },
    {
     "name": "stderr",
     "output_type": "stream",
     "text": [
      "/home/peter/git-repos/secop-ophyd/.venv/lib64/python3.11/site-packages/secop_ophyd/SECoPDevices.py:234: UserWarning: Arrays of composed datatypes are not supported. Array of tuples/structs is turned to Array of Strings\n",
      "  warnings.warn(\n"
     ]
    }
   ],
   "source": [
    "from databroker.v2 import temp\n",
    "from bluesky import RunEngine, Msg\n",
    "import bluesky.plan_stubs as bps\n",
    "\n",
    "import bluesky.preprocessors as bpp\n",
    "\n",
    "from secop_ophyd.SECoPDevices import SECoP_Node_Device, SECoPReadableDevice, SECoPMoveableDevice, SECoP_CMD_Device\n",
    "\n",
    "import random\n",
    "\n",
    "from ophyd.sim import  SynGauss, motor\n",
    "\n",
    "noisy_det0 = SynGauss(\n",
    "        \"noisy_det0\",\n",
    "        motor,\n",
    "        \"motor\",\n",
    "        center=1,\n",
    "        Imax=1,\n",
    "        noise=\"uniform\",\n",
    "        sigma=1,\n",
    "        noise_multiplier=0.4,\n",
    "        labels={\"detectors\"},\n",
    "    )\n",
    "\n",
    "noisy_det1 = SynGauss(\n",
    "        \"noisy_det1\",\n",
    "        motor,\n",
    "        \"motor\",\n",
    "        center=0.5,\n",
    "        Imax=1,\n",
    "        noise=\"uniform\",\n",
    "        sigma=1,\n",
    "        noise_multiplier=1,\n",
    "        labels={\"detectors\"},\n",
    "    )\n",
    "\n",
    "noisy_det2 = SynGauss(\n",
    "        \"noisy_det2\",\n",
    "        motor,\n",
    "        \"motor\",\n",
    "        center=0,\n",
    "        Imax=1,\n",
    "        noise=\"uniform\",\n",
    "        sigma=1,\n",
    "        noise_multiplier=3,\n",
    "        labels={\"detectors\"},\n",
    "    )\n",
    "\n",
    "\n",
    "\n",
    "\n",
    "\n",
    "# Create a run engine and a temporary file backed database. Send all the documents from the RE into that database\n",
    "RE = RunEngine({})\n",
    "db = temp()\n",
    "RE.subscribe(db.v1.insert)\n",
    "\n",
    "\n",
    "\n",
    "\n",
    "\n",
    "#Example of adding metadata to RE environment\n",
    "investigation_id = \"kmnk2n34\"\n",
    "\n",
    "RE.md[\"investigation_id\"] = investigation_id\n",
    "\n",
    "\n",
    "\n",
    "# COnnect to SEC Node and generate ophyd device tree\n",
    "robo_dev = await SECoP_Node_Device.create('localhost','10770',RE.loop)\n",
    "\n",
    "\n",
    "#One Device for every Robot SECoP Module \n",
    "storage:SECoPReadableDevice= robo_dev.storage\n",
    "sample:SECoPMoveableDevice= robo_dev.sample\n",
    "robot:SECoPMoveableDevice= robo_dev.robot\n",
    "\n",
    "#Devices for SECoP Commands\n",
    "loadshort:SECoP_CMD_Device = storage.load_short_dev\n",
    "measure:SECoP_CMD_Device = sample.measure_dev\n"
   ]
  },
  {
   "cell_type": "markdown",
   "metadata": {},
   "source": [
    "## Populating the Storage Module\n",
    "\n",
    "Samples of random substance are loaded into the storage module  "
   ]
  },
  {
   "cell_type": "code",
   "execution_count": 2,
   "metadata": {},
   "outputs": [
    {
     "name": "stdout",
     "output_type": "stream",
     "text": [
      "A 'Joghurt' Sample has been loaded into position 1.\n",
      "A 'Knusperflakes' Sample has been loaded into position 2.\n",
      "A 'Knusperflakes' Sample has been loaded into position 3.\n",
      "A 'Nugat' Sample has been loaded into position 4.\n",
      "A 'Knusperflakes' Sample has been loaded into position 5.\n",
      "A 'Knusperflakes' Sample has been loaded into position 6.\n"
     ]
    },
    {
     "data": {
      "text/plain": [
       "()"
      ]
     },
     "execution_count": 2,
     "metadata": {},
     "output_type": "execute_result"
    }
   ],
   "source": [
    "\n",
    "\n",
    "\n",
    "SCHOKO_SORTEN = {\n",
    "    0:'Knusperkeks',\n",
    "    1:'Edel-Vollmilch',\n",
    "    2:'Knusperflakes',\n",
    "    3:'Nuss-Splitter',\n",
    "    4:'Nugat',\n",
    "    5:'Marzipan',\n",
    "    6:'Joghurt',\n",
    "}\n",
    "\n",
    "\n",
    "\n",
    "# Example Plan for loading samples into the robot\n",
    "def load_samples(storage, lower, upper):\n",
    "    loadshort:SECoP_CMD_Device = storage.load_short_dev\n",
    "\n",
    "    for samplepos in range(lower,upper):\n",
    "        \n",
    "        ### populate Command arguments\n",
    "        # set target sample position        \n",
    "        yield from bps.abs_set(loadshort.samplepos_arg,samplepos, group='sample')\n",
    "        \n",
    "        # set substance of sample\n",
    "        substance = random.randint(0,6)\n",
    "        yield from bps.abs_set(loadshort.substance_arg,substance, group='sample')         \n",
    "\n",
    "\n",
    "        ## wait for arguments to be set (should be instant because command args are locally saved dummy signals)\n",
    "        yield from bps.wait('sample')\n",
    "        \n",
    "\n",
    "        # Trigger command execution of _load_short command\n",
    "        yield from bps.trigger(loadshort,wait=True)        \n",
    "\n",
    "        print( 'A \\'' + SCHOKO_SORTEN[substance] + '\\' Sample has been loaded into position '+ str(samplepos) + '.')\n",
    "\n",
    "\n",
    "\n",
    "## loading random samples\n",
    "RE(load_samples(storage,1,7))\n",
    "        "
   ]
  },
  {
   "cell_type": "markdown",
   "metadata": {},
   "source": [
    "## Making a Measurement (`_measure()` Command)\n",
    "\n",
    "Here a simulated EPICS detector is read while the SECoP `_measure()` Command is running. "
   ]
  },
  {
   "cell_type": "code",
   "execution_count": 9,
   "metadata": {},
   "outputs": [
    {
     "name": "stdout",
     "output_type": "stream",
     "text": [
      "grabbing sample: 1\n",
      "holding sample: 1\n",
      "starting measurement\n",
      "measurement done\n",
      "putting back sample: 1\n"
     ]
    }
   ],
   "source": [
    "def measure(sample,sample_num):\n",
    "\n",
    "    ## Sample Check\n",
    "    # check if robot is currently holding a sample and \n",
    "    # put it back into storage if its not th correct one    \n",
    "    reading = yield from bps.read(sample)\n",
    "  \n",
    "    curr_sample = reading[sample.value.name]['value']\n",
    "    \n",
    "    # holding wrong sample -->  put it back into storage\n",
    "    if curr_sample != 0 and curr_sample  != sample_num :\n",
    "        yield from bps.mv(sample,0)\n",
    "    \n",
    "    # gripper empty --> grab correct sample\n",
    "    if curr_sample == 0:\n",
    "        print('grabbing sample: '+str(i))\n",
    "        yield from bps.mv(sample,i)\n",
    "    \n",
    "    print('holding sample: '+str(i))\n",
    "    \n",
    "    @bpp.run_decorator()\n",
    "    def inner_meas(sample):\n",
    "        \n",
    "          \n",
    "        complete_status = yield from bps.trigger(sample.measure_dev, wait=False) #This message doesn't exist yet\n",
    "        print('starting measurement')\n",
    "        \n",
    "        # While the device is still executing, read from the detectors in the detectors list\n",
    "        while not complete_status.done:\n",
    "\n",
    "            yield Msg('checkpoint') # allows us to pause the run \n",
    "            \n",
    "            yield from bps.one_shot([noisy_det0,noisy_det1,noisy_det2]) #triggers and reads everything in the detectors list\n",
    "           \n",
    "           \n",
    "            yield Msg('sleep', None, 1)       \n",
    "        \n",
    "        print('measurement done')\n",
    "            \n",
    "      \n",
    "    ### Do actual measurement ###\n",
    "    uid = yield from inner_meas(sample)\n",
    "\n",
    " \n",
    "    # put sample back into storage\n",
    "    print('putting back sample: '+str(i))\n",
    "    yield from  bps.mv(sample,0)\n",
    "\n",
    "    return uid\n",
    "\n",
    "\n",
    "\n",
    "\n",
    "for i in range(1,2):\n",
    "    #grab sample i and hold in Measurement Pos\n",
    "    RE(measure(sample,i))\n",
    "    \n"
   ]
  },
  {
   "cell_type": "code",
   "execution_count": 10,
   "metadata": {},
   "outputs": [
    {
     "data": {
      "text/plain": [
       "[<matplotlib.lines.Line2D at 0x7ff7a4510090>]"
      ]
     },
     "execution_count": 10,
     "metadata": {},
     "output_type": "execute_result"
    },
    {
     "data": {
      "image/png": "[encoded data removed]",
      "text/plain": [
       "<Figure size 640x480 with 1 Axes>"
      ]
     },
     "metadata": {},
     "output_type": "display_data"
    },
    {
     "name": "stdout",
     "output_type": "stream",
     "text": [
      "try to reconnect to localhost:10770\n",
      "can not connect to localhost:10770, [Errno 111] Connection refused\n",
      "can not reconnect to sample_changer.HZB (CommunicationFailed('can not connect to localhost:10770, [Errno 111] Connection refused'))\n",
      "continue trying to reconnect\n",
      "[Errno 104] Connection reset by peer\n"
     ]
    }
   ],
   "source": [
    "\n",
    "run=db[-1]\n",
    "data = run.primary.read()\n",
    "data[\"noisy_det0\"].plot()\n",
    "data[\"noisy_det1\"].plot()\n",
    "data[\"noisy_det2\"].plot()\n"
   ]
  }
 ],
 "metadata": {
  "kernelspec": {
   "display_name": ".venv",
   "language": "python",
   "name": "python3"
  },
  "language_info": {
   "codemirror_mode": {
    "name": "ipython",
    "version": 3
   },
   "file_extension": ".py",
   "mimetype": "text/x-python",
   "name": "python",
   "nbconvert_exporter": "python",
   "pygments_lexer": "ipython3",
   "version": "3.11.6"
  }
 },
 "nbformat": 4,
 "nbformat_minor": 2
}
