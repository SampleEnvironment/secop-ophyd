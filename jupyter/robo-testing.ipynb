{
 "cells": [
  {
   "cell_type": "code",
   "execution_count": 1,
   "metadata": {},
   "outputs": [],
   "source": [
    "from databroker.v2 import temp\n",
    "from bluesky import RunEngine, Msg\n",
    "from bluesky.plans import count\n",
    "import bluesky.plan_stubs as bps\n",
    "\n",
    "import bluesky.preprocessors as bpp\n",
    "\n",
    "from secop_ophyd.SECoPDevices import SECoP_Node_Device, SECoPReadableDevice, SECoPMoveableDevice, SECoP_CMD_Device\n",
    "import asyncio\n",
    "import random\n",
    "\n",
    "\n",
    "\n",
    "\n",
    "\n",
    "# Create a run engine and a temporary file backed database. Send all the documents from the RE into that database\n",
    "RE = RunEngine({})\n",
    "db = temp()\n",
    "RE.subscribe(db.v1.insert)\n",
    "\n",
    "from bluesky.plans import scan\n",
    "from ophyd.sim import det,det1, motor\n",
    "import logging\n",
    "\n",
    "\n",
    "def logger():\n",
    "    class NoRXFilter(logging.Filter):\n",
    "        def filter(self, record):\n",
    "            return not record.getMessage().startswith(\"RX\")\n",
    "\n",
    "    class NoTXFilter(logging.Filter):\n",
    "        def filter(self, record):\n",
    "            return not record.getMessage().startswith(\"TX\")\n",
    "\n",
    "    logger = logging.getLogger(\"async_client\")\n",
    "    logger.setLevel(logging.DEBUG)\n",
    "\n",
    "    #logger.addFilter(NoRXFilter())\n",
    "    #logger.addFilter(NoTXFilter())\n",
    "\n",
    "    logging.basicConfig(\n",
    "        datefmt=\"%d/%m/%Y %I:%M:%S\",\n",
    "        format=\"%(asctime)s.%(msecs)03d  %(name)-12s %(levelname)-8s %(message)s\",\n",
    "        filename=\"asyncclient.log\",\n",
    "        encoding=\"utf-8\",\n",
    "        level=logging.DEBUG,\n",
    "        filemode=\"w\",\n",
    "    )\n",
    "\n",
    "    return logger\n",
    "\n",
    "#Example of adding metadata to RE environment\n",
    "\n",
    "investigation_id = \"kmnk2n34\"\n",
    "\n",
    "RE.md[\"investigation_id\"] = investigation_id\n",
    "\n",
    "robo_dev = await SECoP_Node_Device.create('localhost','10770',RE.loop,logger())\n",
    "\n",
    "# now do something\n",
    "RE(scan([det],motor,1,2,10),reason=\"for a demo\")\n",
    "\n",
    "storage:SECoPReadableDevice= robo_dev.storage\n",
    "sample:SECoPMoveableDevice= robo_dev.sample\n",
    "robot:SECoPMoveableDevice= robo_dev.robot\n",
    "loadshort:SECoP_CMD_Device = storage.load_short_dev\n",
    "measure:SECoP_CMD_Device = sample.measure_dev\n"
   ]
  },
  {
   "cell_type": "code",
   "execution_count": null,
   "metadata": {},
   "outputs": [],
   "source": [
    "#before running this cell, run \"docker-compose up\" in /home/peter/git-repos/epics/keysight/keysight_compose\n",
    "from bessyii_devices.keithley import KeysightB2985A\n",
    "\n",
    "keysight = KeysightB2985A(\"EXPTEST:KEYSIGHT:\",name=\"keysight\")"
   ]
  },
  {
   "cell_type": "code",
   "execution_count": null,
   "metadata": {},
   "outputs": [],
   "source": [
    "keysight.connected"
   ]
  },
  {
   "cell_type": "code",
   "execution_count": null,
   "metadata": {},
   "outputs": [],
   "source": [
    "RE(count([keysight],10))"
   ]
  },
  {
   "cell_type": "code",
   "execution_count": null,
   "metadata": {},
   "outputs": [],
   "source": [
    "run=db[-1]\n",
    "run.primary.read()"
   ]
  },
  {
   "cell_type": "code",
   "execution_count": 2,
   "metadata": {},
   "outputs": [
    {
     "name": "stdout",
     "output_type": "stream",
     "text": [
      "1\n",
      "2\n",
      "3\n",
      "4\n",
      "5\n",
      "6\n"
     ]
    },
    {
     "data": {
      "text/plain": [
       "()"
      ]
     },
     "execution_count": 2,
     "metadata": {},
     "output_type": "execute_result"
    }
   ],
   "source": [
    "def load_samples(storage, lower, upper):\n",
    "    loadshort:SECoP_CMD_Device = storage.load_short_dev\n",
    "\n",
    "    for samplepos in range(lower,upper):\n",
    "        #await asyncio.sleep(2)\n",
    "        yield from bps.abs_set(loadshort.samplepos_arg,samplepos, group='sample')\n",
    "        yield from bps.abs_set(loadshort.substance_arg,random.randint(0,6), group='sample')         \n",
    "\n",
    "        yield from bps.wait('sample')\n",
    "        \n",
    "    \n",
    "        # Execute load short command\n",
    "        yield from bps.trigger(loadshort,wait=True)\n",
    "\n",
    "\n",
    "\n",
    "        #yield from bps.wait_for([storage.wait_for_IDLE,robot.wait_for_IDLE])\n",
    "\n",
    "        print(samplepos)\n",
    "\n",
    "\n",
    "RE(load_samples(storage,1,7))\n",
    "        "
   ]
  },
  {
   "cell_type": "code",
   "execution_count": null,
   "metadata": {},
   "outputs": [],
   "source": [
    "await robo_dev.storage.read()\n",
    "#await robo_dev.storage.read_configuration()\n",
    "\n",
    "RE(count([storage],delay=2,num=5))\n"
   ]
  },
  {
   "cell_type": "code",
   "execution_count": null,
   "metadata": {},
   "outputs": [],
   "source": [
    "RE.abort()"
   ]
  },
  {
   "cell_type": "code",
   "execution_count": null,
   "metadata": {},
   "outputs": [],
   "source": [
    "\n",
    "\n",
    "def measure(detectors,sample,sample_num):\n",
    "        \n",
    "\n",
    "    \n",
    "    reading = yield from bps.read(sample)\n",
    "  \n",
    "    \n",
    "    curr_sample = reading[sample.value.name]['value']\n",
    "    \n",
    "    # holding wrong sample -->  put it back into storage\n",
    "    if curr_sample != 0 and curr_sample  != sample_num :\n",
    "        yield from bps.mv(sample,0)\n",
    "    \n",
    "    # gripper empty --> grab correct sample\n",
    "    if curr_sample == 0:\n",
    "        yield from bps.mv(sample,i)\n",
    "    \n",
    "    # Do actual measurement\n",
    "    @bpp.stage_decorator(detectors)\n",
    "    @bpp.run_decorator()\n",
    "    def inner_meas(detectors,sample):\n",
    "\n",
    "        complete_status = yield from bps.complete(sample.measure_dev, wait=False) #This message doesn't exist yet\n",
    "    \n",
    "        # While the device is still executing, read from the detectors in the detectors list\n",
    "        while not complete_status.done:\n",
    "\n",
    "            yield Msg('checkpoint') # allows us to pause the run \n",
    "            yield from bps.one_shot(detectors) #triggers and reads everything in the detectors list\n",
    "            yield Msg('sleep', None, 1)       \n",
    "    \n",
    "    uid = yield from inner_meas(detectors,sample)\n",
    "\n",
    " \n",
    "    # put sample back into storage\n",
    "    yield from  bps.mv(sample,0)\n",
    "\n",
    "    return uid\n",
    "\n",
    "\n",
    "\n",
    "\n",
    "for i in range(1,7):\n",
    "    #grab sample i and hold in Measurement Pos\n",
    "    RE(measure([keysight,det],sample,i))\n",
    "    \n",
    "\n",
    "run=db[-1]\n",
    "run.primary.read()\n"
   ]
  },
  {
   "cell_type": "code",
   "execution_count": null,
   "metadata": {},
   "outputs": [],
   "source": [
    "def dumb(sample):\n",
    "    yield from bps.mv(sample,1)\n",
    "    yield from bps.mv(sample,0)\n",
    "    yield from bps.mv(sample,1)\n",
    "    yield from bps.mv(sample,0)\n",
    "    \n",
    "RE(dumb(sample))\n",
    "\n"
   ]
  },
  {
   "cell_type": "code",
   "execution_count": 2,
   "metadata": {},
   "outputs": [
    {
     "data": {
      "text/plain": [
       "()"
      ]
     },
     "execution_count": 2,
     "metadata": {},
     "output_type": "execute_result"
    }
   ],
   "source": [
    "async def test_except():\n",
    "    await asyncio.sleep(1)\n",
    "    raise RuntimeError\n",
    "    \n",
    "    \n",
    "def except_plan():\n",
    "    yield from bps.wait_for([test_except])\n",
    "    \n",
    "    \n",
    "RE(except_plan())"
   ]
  },
  {
   "cell_type": "code",
   "execution_count": 6,
   "metadata": {},
   "outputs": [
    {
     "data": {
      "text/plain": [
       "({<Task finished name='Task-53' coro=<test_except() done, defined at /tmp/ipykernel_47612/3142971814.py:1> exception=RuntimeError()>},\n",
       " set())"
      ]
     },
     "execution_count": 6,
     "metadata": {},
     "output_type": "execute_result"
    }
   ],
   "source": [
    "fut = asyncio.ensure_future(test_except())\n",
    "\n",
    "await asyncio.wait([fut])\n"
   ]
  },
  {
   "cell_type": "code",
   "execution_count": 3,
   "metadata": {},
   "outputs": [
    {
     "ename": "AttributeError",
     "evalue": "primary",
     "output_type": "error",
     "traceback": [
      "\u001b[0;31m---------------------------------------------------------------------------\u001b[0m",
      "\u001b[0;31mKeyError\u001b[0m                                  Traceback (most recent call last)",
      "File \u001b[0;32m~/git-repos/secop-ophyd/.venv/lib64/python3.11/site-packages/intake/catalog/base.py:350\u001b[0m, in \u001b[0;36mCatalog.__getattr__\u001b[0;34m(self, item)\u001b[0m\n\u001b[1;32m    349\u001b[0m \u001b[39mtry\u001b[39;00m:\n\u001b[0;32m--> 350\u001b[0m     \u001b[39mreturn\u001b[39;00m \u001b[39mself\u001b[39;49m[item]  \u001b[39m# triggers reload_on_change\u001b[39;00m\n\u001b[1;32m    351\u001b[0m \u001b[39mexcept\u001b[39;00m \u001b[39mKeyError\u001b[39;00m \u001b[39mas\u001b[39;00m e:\n",
      "File \u001b[0;32m~/git-repos/secop-ophyd/.venv/lib64/python3.11/site-packages/intake/catalog/base.py:423\u001b[0m, in \u001b[0;36mCatalog.__getitem__\u001b[0;34m(self, key)\u001b[0m\n\u001b[1;32m    422\u001b[0m     \u001b[39mreturn\u001b[39;00m out()\n\u001b[0;32m--> 423\u001b[0m \u001b[39mraise\u001b[39;00m \u001b[39mKeyError\u001b[39;00m(key)\n",
      "\u001b[0;31mKeyError\u001b[0m: 'primary'",
      "\nThe above exception was the direct cause of the following exception:\n",
      "\u001b[0;31mAttributeError\u001b[0m                            Traceback (most recent call last)",
      "\u001b[1;32m/home/peter/git-repos/secop-ophyd/jupyter/robo-testing.ipynb Cell 13\u001b[0m line \u001b[0;36m4\n\u001b[1;32m     <a href='vscode-notebook-cell:/home/peter/git-repos/secop-ophyd/jupyter/robo-testing.ipynb#X15sZmlsZQ%3D%3D?line=44'>45</a>\u001b[0m     RE(measure(sample,i))\n\u001b[1;32m     <a href='vscode-notebook-cell:/home/peter/git-repos/secop-ophyd/jupyter/robo-testing.ipynb#X15sZmlsZQ%3D%3D?line=47'>48</a>\u001b[0m run\u001b[39m=\u001b[39mdb[\u001b[39m-\u001b[39m\u001b[39m1\u001b[39m]\n\u001b[0;32m---> <a href='vscode-notebook-cell:/home/peter/git-repos/secop-ophyd/jupyter/robo-testing.ipynb#X15sZmlsZQ%3D%3D?line=48'>49</a>\u001b[0m run\u001b[39m.\u001b[39;49mprimary\u001b[39m.\u001b[39mread()\n",
      "File \u001b[0;32m~/git-repos/secop-ophyd/.venv/lib64/python3.11/site-packages/intake/catalog/base.py:352\u001b[0m, in \u001b[0;36mCatalog.__getattr__\u001b[0;34m(self, item)\u001b[0m\n\u001b[1;32m    350\u001b[0m         \u001b[39mreturn\u001b[39;00m \u001b[39mself\u001b[39m[item]  \u001b[39m# triggers reload_on_change\u001b[39;00m\n\u001b[1;32m    351\u001b[0m     \u001b[39mexcept\u001b[39;00m \u001b[39mKeyError\u001b[39;00m \u001b[39mas\u001b[39;00m e:\n\u001b[0;32m--> 352\u001b[0m         \u001b[39mraise\u001b[39;00m \u001b[39mAttributeError\u001b[39;00m(item) \u001b[39mfrom\u001b[39;00m \u001b[39me\u001b[39;00m\n\u001b[1;32m    353\u001b[0m \u001b[39mraise\u001b[39;00m \u001b[39mAttributeError\u001b[39;00m(item)\n",
      "\u001b[0;31mAttributeError\u001b[0m: primary"
     ]
    }
   ],
   "source": [
    "def measure(sample,sample_num):\n",
    "        \n",
    "\n",
    "    \n",
    "    reading = yield from bps.read(sample)\n",
    "  \n",
    "    \n",
    "    curr_sample = reading[sample.value.name]['value']\n",
    "    \n",
    "    # holding wrong sample -->  put it back into storage\n",
    "    if curr_sample != 0 and curr_sample  != sample_num :\n",
    "        yield from bps.mv(sample,0)\n",
    "    \n",
    "    # gripper empty --> grab correct sample\n",
    "    if curr_sample == 0:\n",
    "        yield from bps.mv(sample,i)\n",
    "    \n",
    "    # Do actual measurement\n",
    "\n",
    "    @bpp.run_decorator()\n",
    "    def inner_meas(sample):\n",
    "\n",
    "        complete_status = yield from bps.complete(sample.measure_dev, wait=False) #This message doesn't exist yet\n",
    "    \n",
    "        # While the device is still executing, read from the detectors in the detectors list\n",
    "        while not complete_status.done:\n",
    "\n",
    "            yield Msg('checkpoint') # allows us to pause the run \n",
    "           \n",
    "            yield Msg('sleep', None, 1)       \n",
    "    \n",
    "    uid = yield from inner_meas(sample)\n",
    "\n",
    " \n",
    "    # put sample back into storage\n",
    "    yield from  bps.mv(sample,0)\n",
    "\n",
    "    return uid\n",
    "\n",
    "\n",
    "\n",
    "\n",
    "for i in range(1,7):\n",
    "    #grab sample i and hold in Measurement Pos\n",
    "    RE(measure(sample,i))\n",
    "    \n",
    "\n",
    "run=db[-1]\n"
   ]
  }
 ],
 "metadata": {
  "kernelspec": {
   "display_name": ".venv",
   "language": "python",
   "name": "python3"
  },
  "language_info": {
   "codemirror_mode": {
    "name": "ipython",
    "version": 3
   },
   "file_extension": ".py",
   "mimetype": "text/x-python",
   "name": "python",
   "nbconvert_exporter": "python",
   "pygments_lexer": "ipython3",
   "version": "3.11.6"
  },
  "orig_nbformat": 4
 },
 "nbformat": 4,
 "nbformat_minor": 2
}
