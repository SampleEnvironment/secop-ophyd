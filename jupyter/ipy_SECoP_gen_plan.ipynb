{
 "cells": [
  {
   "cell_type": "markdown",
   "metadata": {},
   "source": [
    "# Demo of `secop-ophyd` Integration \n",
    "\n",
    "This demo utilizes the samplechanger SEC node, and demonstrates the concurrent control and readout of EPICS Detectors and SECoP hardware.\n",
    "\n",
    "prerequisites:\n",
    "- a running instance ofURsim (see `/URsimDocker` directory) or the real UR3 robot samplechanger apparatus\n",
    "\n",
    "- `remote mode`of the robot has to be enabled \n",
    "    \n",
    "- a running SEC node for the samplechanger robot is needed as well:\n",
    "    ```python3 frappy/bin/frappy-server -c frappy/cfg/UR_robot_cfg.py``` \n",
    "\n",
    "\n",
    "### Bluesky Runenegine Setup"
   ]
  },
  {
   "cell_type": "code",
   "execution_count": 1,
   "metadata": {},
   "outputs": [
    {
     "name": "stdout",
     "output_type": "stream",
     "text": [
      "Extend DSO search path to '/home/qfj/git-repos/secop-ophyd/.venv/lib/python3.10/site-packages/epicscorelibs/lib'\n",
      "Using selector: EpollSelector\n",
      "first instance of OphydObject: id=140391254853376\n",
      "put(value=0, timestamp=None, force=False, metadata=None)\n",
      "put(value=0, timestamp=None, force=False, metadata=None)\n",
      "put(value=1, timestamp=None, force=False, metadata=None)\n",
      "put(value=1, timestamp=None, force=False, metadata=None)\n",
      "put(value=2, timestamp=None, force=False, metadata=None)\n",
      "put(value=0.1, timestamp=None, force=False, metadata=None)\n",
      "put(value=1.080795392871588, timestamp=None, force=False, metadata=None)\n",
      "put(value=0, timestamp=None, force=False, metadata=None)\n",
      "put(value=0, timestamp=None, force=False, metadata=None)\n",
      "put(value=1, timestamp=None, force=False, metadata=None)\n",
      "put(value=1, timestamp=None, force=False, metadata=None)\n",
      "put(value=1.0, timestamp=None, force=False, metadata=None)\n",
      "put(value=0, timestamp=None, force=False, metadata=None)\n",
      "put(value=0, timestamp=None, force=False, metadata=None)\n",
      "put(value=1, timestamp=None, force=False, metadata=None)\n",
      "put(value=1, timestamp=None, force=False, metadata=None)\n",
      "put(value=1.0, timestamp=None, force=False, metadata=None)\n",
      "put(value=0, timestamp=None, force=False, metadata=None)\n",
      "put(value=0, timestamp=None, force=False, metadata=None)\n",
      "put(value=5, timestamp=None, force=False, metadata=None)\n",
      "put(value=0.5, timestamp=None, force=False, metadata=None)\n",
      "put(value=5.0, timestamp=None, force=False, metadata=None)\n",
      "put(value=0, timestamp=None, force=False, metadata=None)\n",
      "put(value=1, timestamp=None, force=False, metadata=None)\n",
      "put(value=2, timestamp=None, force=False, metadata=None)\n",
      "put(value=2, timestamp=None, force=False, metadata=None)\n",
      "put(value=1.7649938051691907, timestamp=None, force=False, metadata=None)\n",
      "put(value=0, timestamp=None, force=False, metadata=None)\n",
      "put(value=-1, timestamp=None, force=False, metadata=None)\n",
      "put(value=2, timestamp=None, force=False, metadata=None)\n",
      "put(value=1, timestamp=None, force=False, metadata=None)\n",
      "put(value=1.2130613194252668, timestamp=None, force=False, metadata=None)\n",
      "put(value=0, timestamp=None, force=False, metadata=None)\n",
      "put(value=(0, 0), timestamp=None, force=False, metadata=None)\n",
      "put(value=1, timestamp=None, force=False, metadata=None)\n",
      "put(value=1, timestamp=None, force=False, metadata=None)\n",
      "put(value=0, timestamp=None, force=False, metadata=None)\n",
      "put(value=1, timestamp=None, force=False, metadata=None)\n",
      "put(value=1.0, timestamp=None, force=False, metadata=None)\n",
      "put(value=0, timestamp=None, force=False, metadata=None)\n",
      "put(value=(0, 0), timestamp=None, force=False, metadata=None)\n",
      "put(value=1, timestamp=None, force=False, metadata=None)\n",
      "put(value=1, timestamp=None, force=False, metadata=None)\n",
      "put(value=0, timestamp=None, force=False, metadata=None)\n",
      "put(value=1, timestamp=None, force=False, metadata=None)\n",
      "put(value=0.736140435429934, timestamp=None, force=False, metadata=None)\n",
      "Real positioners: [SoftPositioner(name='pseudo3x3_real1', parent='pseudo3x3', settle_time=0.0, timeout=None, egu='', limits=(0, 0), source='computed'), SoftPositioner(name='pseudo3x3_real2', parent='pseudo3x3', settle_time=0.0, timeout=None, egu='', limits=(0, 0), source='computed'), SoftPositioner(name='pseudo3x3_real3', parent='pseudo3x3', settle_time=0.0, timeout=None, egu='', limits=(0, 0), source='computed')]\n",
      "Pseudo positioners: [PseudoSingle(prefix='', name='pseudo3x3_pseudo1', parent='pseudo3x3', settle_time=0.0, timeout=None, egu='a', limits=(-10, 10), source='computed', read_attrs=['readback', 'setpoint'], configuration_attrs=[], idx=None), PseudoSingle(prefix='', name='pseudo3x3_pseudo2', parent='pseudo3x3', settle_time=0.0, timeout=None, egu='b', limits=(-10, 10), source='computed', read_attrs=['readback', 'setpoint'], configuration_attrs=[], idx=None), PseudoSingle(prefix='', name='pseudo3x3_pseudo3', parent='pseudo3x3', settle_time=0.0, timeout=None, egu='c', limits=(0, 0), source='computed', read_attrs=['readback', 'setpoint'], configuration_attrs=[], idx=None)]\n",
      "Real positioners: [SoftPositioner(name='pseudo1x3_real1', parent='pseudo1x3', settle_time=0.0, timeout=None, egu='', limits=(0, 0), source='computed'), SoftPositioner(name='pseudo1x3_real2', parent='pseudo1x3', settle_time=0.0, timeout=None, egu='', limits=(0, 0), source='computed'), SoftPositioner(name='pseudo1x3_real3', parent='pseudo1x3', settle_time=0.0, timeout=None, egu='', limits=(0, 0), source='computed')]\n",
      "Pseudo positioners: [PseudoSingle(prefix='', name='pseudo1x3_pseudo1', parent='pseudo1x3', settle_time=0.0, timeout=None, egu='', limits=(-10, 10), source='computed', read_attrs=['readback', 'setpoint'], configuration_attrs=[], idx=None)]\n"
     ]
    }
   ],
   "source": [
    "from databroker.v2 import temp\n",
    "from bluesky import RunEngine\n",
    "import bluesky.plan_stubs as bps\n",
    "from bluesky.plans import scan\n",
    "import inspect\n",
    "\n",
    "\n",
    "from bluesky.callbacks.best_effort import BestEffortCallback\n",
    "from pprint import pprint\n",
    "from secop_ophyd.SECoPDevices import SECoPNodeDevice\n",
    "from bluesky.utils import ProgressBarManager\n",
    "\n",
    "\n",
    "\n",
    "# Create a run engine and a temporary file backed database. Send all the documents from the RE into that database\n",
    "RE = RunEngine({},call_returns_result=True)\n",
    "db = temp()\n",
    "bec = BestEffortCallback()\n",
    "RE.subscribe(bec)\n",
    "RE.waiting_hook = ProgressBarManager()\n",
    "RE.ignore_callback_exceptions = False\n",
    "RE.subscribe(db.v1.insert)\n",
    "\n",
    "\n",
    "\n",
    "#Example of adding metadata to RE environment\n",
    "investigation_id = \"kmnk2n34\"\n",
    "\n",
    "RE.md[\"investigation_id\"] = investigation_id\n",
    "\n"
   ]
  },
  {
   "cell_type": "markdown",
   "metadata": {},
   "source": [
    "### SECoP-Ophyd Device generation"
   ]
  },
  {
   "cell_type": "code",
   "execution_count": 2,
   "metadata": {},
   "outputs": [
    {
     "name": "stdout",
     "output_type": "stream",
     "text": [
      "gas_dosing ready\n"
     ]
    }
   ],
   "source": [
    "\n",
    "\n",
    "# Connect to SEC Node and generate ophyd device tree\n",
    "gas_d = SECoPNodeDevice.create('localhost','10800',RE.loop)\n",
    "\n",
    "\n",
    "\n"
   ]
  },
  {
   "cell_type": "code",
   "execution_count": null,
   "metadata": {},
   "outputs": [],
   "source": []
  },
  {
   "cell_type": "code",
   "execution_count": 3,
   "metadata": {},
   "outputs": [
    {
     "name": "stdout",
     "output_type": "stream",
     "text": [
      "no code generated yet, building from scratch\n",
      "Executing plan <generator object SECoPReadableDevice.generate_cmd_plan.<locals>.command_plan at 0x7faf62e61930>\n",
      "Change state on <bluesky.run_engine.RunEngine object at 0x7fafa0c99db0> from 'idle' -> 'running'\n",
      "set(<ophyd_async.core.signal.SignalRW object at 0x7faf62eb70a0>, *({'id': 20, 'name': 'good_name', 'sort': True},) **{'group': None}, run=None)\n",
      "trigger(<secop_ophyd.SECoPDevices.SECoPCMDDevice object at 0x7faf62eb70d0>, *() **{'group': None}, run=None)\n",
      "The object <ophyd_async.core.signal.SignalRW object at 0x7faf62eb70a0> reports set is done with status True\n",
      "wait(None, *() **{'group': None}, run=None)\n",
      "The object <secop_ophyd.SECoPDevices.SECoPCMDDevice object at 0x7faf62eb70d0> reports 'trigger' is done with status True.\n",
      "No 'stop' method available on <ophyd_async.core.signal.SignalRW object at 0x7faf62eb70a0>\n",
      "Change state on <bluesky.run_engine.RunEngine object at 0x7fafa0c99db0> from 'running' -> 'idle'\n",
      "Cleaned up from plan <generator object SECoPReadableDevice.generate_cmd_plan.<locals>.command_plan at 0x7faf62e61930>\n",
      "RunEngineResult(run_start_uids=(), plan_result=72, exit_status='success', interrupted=False, reason='', exception=None)\n"
     ]
    }
   ],
   "source": [
    "gas_d.class_from_instance()\n",
    "\n",
    "from genNodeClass import  Gas_dosing\n",
    "\n",
    "gas_d:Gas_dosing = gas_d \n",
    "\n",
    "arg = {\"id\":20,\"name\":\"good_name\",\"sort\":True}\n",
    "\n",
    "\n",
    "\n",
    "\n",
    "print(RE(gas_d.massflow_contr1.test_cmd(arg,wait_for_idle= False)))\n",
    "\n",
    "\n",
    "\n"
   ]
  },
  {
   "cell_type": "markdown",
   "metadata": {},
   "source": []
  }
 ],
 "metadata": {
  "kernelspec": {
   "display_name": ".venv",
   "language": "python",
   "name": "python3"
  },
  "language_info": {
   "codemirror_mode": {
    "name": "ipython",
    "version": 3
   },
   "file_extension": ".py",
   "mimetype": "text/x-python",
   "name": "python",
   "nbconvert_exporter": "python",
   "pygments_lexer": "ipython3",
   "version": "3.10.12"
  }
 },
 "nbformat": 4,
 "nbformat_minor": 2
}
