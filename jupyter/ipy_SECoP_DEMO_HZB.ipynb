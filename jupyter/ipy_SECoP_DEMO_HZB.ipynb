{
 "cells": [
  {
   "cell_type": "markdown",
   "metadata": {},
   "source": [
    "# Demo of `secop-ophyd` Integration \n",
    "\n",
    "This demo utilizes the samplechanger SEC node, and demonstrates the concurrent control and readout of EPICS Detectors and SECoP hardware.\n",
    "\n",
    "prerequisites:\n",
    "- a running instance ofURsim (see `/URsimDocker` directory) or the real UR3 robot samplechanger apparatus\n",
    "\n",
    "- `remote mode`of the robot has to be enabled \n",
    "    \n",
    "- a running SEC node for the samplechanger robot is needed as well:\n",
    "    ```python3 frappy/bin/frappy-server -c frappy/cfg/UR_robot_cfg.py``` \n",
    "\n",
    "\n",
    "### Bluesky Runenegine Setup"
   ]
  },
  {
   "cell_type": "code",
   "execution_count": 1,
   "metadata": {},
   "outputs": [
    {
     "name": "stdout",
     "output_type": "stream",
     "text": [
      "Extend DSO search path to '/home/qfj/git-repos/secop-ophyd/.venv/lib/python3.10/site-packages/epicscorelibs/lib'\n",
      "first instance of OphydObject: id=139826682781200\n",
      "put(value=0, timestamp=None, force=False, metadata=None)\n",
      "put(value=0, timestamp=None, force=False, metadata=None)\n",
      "put(value=1, timestamp=None, force=False, metadata=None)\n",
      "put(value=1, timestamp=None, force=False, metadata=None)\n",
      "put(value=2, timestamp=None, force=False, metadata=None)\n",
      "put(value=0.1, timestamp=None, force=False, metadata=None)\n",
      "put(value=0.9631770513095513, timestamp=None, force=False, metadata=None)\n",
      "put(value=0, timestamp=None, force=False, metadata=None)\n",
      "put(value=0, timestamp=None, force=False, metadata=None)\n",
      "put(value=1, timestamp=None, force=False, metadata=None)\n",
      "put(value=1, timestamp=None, force=False, metadata=None)\n",
      "put(value=1.0, timestamp=None, force=False, metadata=None)\n",
      "put(value=0, timestamp=None, force=False, metadata=None)\n",
      "put(value=0, timestamp=None, force=False, metadata=None)\n",
      "put(value=1, timestamp=None, force=False, metadata=None)\n",
      "put(value=1, timestamp=None, force=False, metadata=None)\n",
      "put(value=1.0, timestamp=None, force=False, metadata=None)\n",
      "put(value=0, timestamp=None, force=False, metadata=None)\n",
      "put(value=0, timestamp=None, force=False, metadata=None)\n",
      "put(value=5, timestamp=None, force=False, metadata=None)\n",
      "put(value=0.5, timestamp=None, force=False, metadata=None)\n",
      "put(value=5.0, timestamp=None, force=False, metadata=None)\n",
      "put(value=0, timestamp=None, force=False, metadata=None)\n",
      "put(value=1, timestamp=None, force=False, metadata=None)\n",
      "put(value=2, timestamp=None, force=False, metadata=None)\n",
      "put(value=2, timestamp=None, force=False, metadata=None)\n",
      "put(value=1.7649938051691907, timestamp=None, force=False, metadata=None)\n",
      "put(value=0, timestamp=None, force=False, metadata=None)\n",
      "put(value=-1, timestamp=None, force=False, metadata=None)\n",
      "put(value=2, timestamp=None, force=False, metadata=None)\n",
      "put(value=1, timestamp=None, force=False, metadata=None)\n",
      "put(value=1.2130613194252668, timestamp=None, force=False, metadata=None)\n",
      "put(value=0, timestamp=None, force=False, metadata=None)\n",
      "put(value=(0, 0), timestamp=None, force=False, metadata=None)\n",
      "put(value=1, timestamp=None, force=False, metadata=None)\n",
      "put(value=1, timestamp=None, force=False, metadata=None)\n",
      "put(value=0, timestamp=None, force=False, metadata=None)\n",
      "put(value=1, timestamp=None, force=False, metadata=None)\n",
      "put(value=1.0, timestamp=None, force=False, metadata=None)\n",
      "put(value=0, timestamp=None, force=False, metadata=None)\n",
      "put(value=(0, 0), timestamp=None, force=False, metadata=None)\n",
      "put(value=1, timestamp=None, force=False, metadata=None)\n",
      "put(value=1, timestamp=None, force=False, metadata=None)\n",
      "put(value=0, timestamp=None, force=False, metadata=None)\n",
      "put(value=1, timestamp=None, force=False, metadata=None)\n",
      "put(value=0.5220637711048218, timestamp=None, force=False, metadata=None)\n",
      "Real positioners: [SoftPositioner(name='pseudo3x3_real1', parent='pseudo3x3', settle_time=0.0, timeout=None, egu='', limits=(0, 0), source='computed'), SoftPositioner(name='pseudo3x3_real2', parent='pseudo3x3', settle_time=0.0, timeout=None, egu='', limits=(0, 0), source='computed'), SoftPositioner(name='pseudo3x3_real3', parent='pseudo3x3', settle_time=0.0, timeout=None, egu='', limits=(0, 0), source='computed')]\n",
      "Pseudo positioners: [PseudoSingle(prefix='', name='pseudo3x3_pseudo1', parent='pseudo3x3', settle_time=0.0, timeout=None, egu='a', limits=(-10, 10), source='computed', read_attrs=['readback', 'setpoint'], configuration_attrs=[], idx=None), PseudoSingle(prefix='', name='pseudo3x3_pseudo2', parent='pseudo3x3', settle_time=0.0, timeout=None, egu='b', limits=(-10, 10), source='computed', read_attrs=['readback', 'setpoint'], configuration_attrs=[], idx=None), PseudoSingle(prefix='', name='pseudo3x3_pseudo3', parent='pseudo3x3', settle_time=0.0, timeout=None, egu='c', limits=(0, 0), source='computed', read_attrs=['readback', 'setpoint'], configuration_attrs=[], idx=None)]\n",
      "Real positioners: [SoftPositioner(name='pseudo1x3_real1', parent='pseudo1x3', settle_time=0.0, timeout=None, egu='', limits=(0, 0), source='computed'), SoftPositioner(name='pseudo1x3_real2', parent='pseudo1x3', settle_time=0.0, timeout=None, egu='', limits=(0, 0), source='computed'), SoftPositioner(name='pseudo1x3_real3', parent='pseudo1x3', settle_time=0.0, timeout=None, egu='', limits=(0, 0), source='computed')]\n",
      "Pseudo positioners: [PseudoSingle(prefix='', name='pseudo1x3_pseudo1', parent='pseudo1x3', settle_time=0.0, timeout=None, egu='', limits=(-10, 10), source='computed', read_attrs=['readback', 'setpoint'], configuration_attrs=[], idx=None)]\n",
      "put(value=0, timestamp=None, force=False, metadata=None)\n",
      "put(value=1, timestamp=None, force=False, metadata=None)\n",
      "put(value=1, timestamp=None, force=False, metadata=None)\n",
      "put(value=1, timestamp=None, force=False, metadata=None)\n",
      "put(value=2, timestamp=None, force=False, metadata=None)\n",
      "put(value=0.4, timestamp=None, force=False, metadata=None)\n",
      "put(value=0.6137576863792111, timestamp=None, force=False, metadata=None)\n",
      "put(value=0, timestamp=None, force=False, metadata=None)\n",
      "put(value=0.5, timestamp=None, force=False, metadata=None)\n",
      "put(value=1, timestamp=None, force=False, metadata=None)\n",
      "put(value=1, timestamp=None, force=False, metadata=None)\n",
      "put(value=2, timestamp=None, force=False, metadata=None)\n",
      "put(value=1, timestamp=None, force=False, metadata=None)\n",
      "put(value=1.584336419122895, timestamp=None, force=False, metadata=None)\n",
      "put(value=0, timestamp=None, force=False, metadata=None)\n",
      "put(value=0, timestamp=None, force=False, metadata=None)\n",
      "put(value=1, timestamp=None, force=False, metadata=None)\n",
      "put(value=1, timestamp=None, force=False, metadata=None)\n",
      "put(value=2, timestamp=None, force=False, metadata=None)\n",
      "put(value=3, timestamp=None, force=False, metadata=None)\n",
      "put(value=2.91697663539788, timestamp=None, force=False, metadata=None)\n",
      "Using selector: EpollSelector\n"
     ]
    }
   ],
   "source": [
    "from databroker.v2 import temp\n",
    "from bluesky import RunEngine, Msg\n",
    "import bluesky.plan_stubs as bps\n",
    "\n",
    "from pprint import pprint\n",
    "from bluesky.plans import scan\n",
    "import bluesky.preprocessors as bpp\n",
    "\n",
    "from secop_ophyd.SECoPDevices import SECoP_Node_Device, SECoPReadableDevice, SECoPMoveableDevice, SECoP_CMD_Device\n",
    "\n",
    "import random\n",
    "\n",
    "from ophyd.sim import  SynGauss, motor\n",
    "\n",
    "noisy_det0 = SynGauss(\n",
    "        \"noisy_det0\",\n",
    "        motor,\n",
    "        \"motor\",\n",
    "        center=1,\n",
    "        Imax=1,\n",
    "        noise=\"uniform\",\n",
    "        sigma=1,\n",
    "        noise_multiplier=0.4,\n",
    "        labels={\"detectors\"},\n",
    "    )\n",
    "\n",
    "noisy_det1 = SynGauss(\n",
    "        \"noisy_det1\",\n",
    "        motor,\n",
    "        \"motor\",\n",
    "        center=0.5,\n",
    "        Imax=1,\n",
    "        noise=\"uniform\",\n",
    "        sigma=1,\n",
    "        noise_multiplier=1,\n",
    "        labels={\"detectors\"},\n",
    "    )\n",
    "\n",
    "noisy_det2 = SynGauss(\n",
    "        \"noisy_det2\",\n",
    "        motor,\n",
    "        \"motor\",\n",
    "        center=0,\n",
    "        Imax=1,\n",
    "        noise=\"uniform\",\n",
    "        sigma=1,\n",
    "        noise_multiplier=3,\n",
    "        labels={\"detectors\"},\n",
    "    )\n",
    "\n",
    "\n",
    "\n",
    "url_robo = '192.168.15.6'\n",
    "url_nico = '192.168.15.4'\n",
    "port_nico = '2201'\n",
    "\n",
    "# Create a run engine and a temporary file backed database. Send all the documents from the RE into that database\n",
    "RE = RunEngine({})\n",
    "db = temp()\n",
    "RE.subscribe(db.v1.insert)\n",
    "\n",
    "RE.verbose = False\n",
    "\n",
    "\n",
    "\n",
    "#Example of adding metadata to RE environment\n",
    "investigation_id = \"kmnk2n34\"\n",
    "\n",
    "RE.md[\"investigation_id\"] = investigation_id\n",
    "\n"
   ]
  },
  {
   "cell_type": "markdown",
   "metadata": {},
   "source": [
    "### SECoP-Ophyd Device generation"
   ]
  },
  {
   "cell_type": "code",
   "execution_count": 2,
   "metadata": {},
   "outputs": [
    {
     "name": "stdout",
     "output_type": "stream",
     "text": [
      "sample_changer.HZB ready\n"
     ]
    }
   ],
   "source": [
    "\n",
    "\n",
    "# Connect to SEC Node and generate ophyd device tree\n",
    "robo_dev = await SECoP_Node_Device.create(url_robo,'10770',RE.loop)\n",
    "\n",
    "\n",
    "#One Device for every Robot SECoP Module \n",
    "storage:SECoPReadableDevice= robo_dev.storage\n",
    "sample:SECoPMoveableDevice= robo_dev.sample\n",
    "robot:SECoPMoveableDevice= robo_dev.robot\n",
    "\n",
    "#Devices for SECoP Commands\n",
    "loadshort:SECoP_CMD_Device = storage.load_short_CMD\n",
    "measure:SECoP_CMD_Device = sample.measure_CMD\n"
   ]
  },
  {
   "cell_type": "markdown",
   "metadata": {},
   "source": [
    "### Populating the Storage Module\n",
    "\n",
    "Samples of random substance are loaded into the storage module  "
   ]
  },
  {
   "cell_type": "code",
   "execution_count": 3,
   "metadata": {},
   "outputs": [
    {
     "name": "stdout",
     "output_type": "stream",
     "text": [
      "Executing plan <generator object load_samples at 0x7f2f925123b0>\n",
      "Change state on <bluesky.run_engine.RunEngine object at 0x7f2fd17963e0> from 'idle' -> 'running'\n",
      "set(<ophyd_async.core.signal.SignalRW object at 0x7f2f924f83d0>, *({'substance': 0, 'samplepos': 1},) **{'group': 'sample'}, run=None)\n",
      "wait(None, *() **{'group': 'sample', 'timeout': None}, run=None)\n",
      "The object <ophyd_async.core.signal.SignalRW object at 0x7f2f924f83d0> reports set is done with status True\n",
      "trigger(<secop_ophyd.SECoPDevices.SECoP_CMD_Device object at 0x7f2f924f83a0>, *() **{'group': None}, run=None)\n",
      "wait(None, *() **{'group': None}, run=None)\n",
      "The object <secop_ophyd.SECoPDevices.SECoP_CMD_Device object at 0x7f2f924f83a0> reports 'trigger' is done with status True.\n",
      "A 'Knusperkeks' sample has been loaded into position 1.\n",
      "set(<ophyd_async.core.signal.SignalRW object at 0x7f2f924f83d0>, *({'substance': 0, 'samplepos': 2},) **{'group': 'sample'}, run=None)\n",
      "wait(None, *() **{'group': 'sample', 'timeout': None}, run=None)\n",
      "The object <ophyd_async.core.signal.SignalRW object at 0x7f2f924f83d0> reports set is done with status True\n",
      "trigger(<secop_ophyd.SECoPDevices.SECoP_CMD_Device object at 0x7f2f924f83a0>, *() **{'group': None}, run=None)\n",
      "wait(None, *() **{'group': None}, run=None)\n",
      "The object <secop_ophyd.SECoPDevices.SECoP_CMD_Device object at 0x7f2f924f83a0> reports 'trigger' is done with status True.\n",
      "A 'Knusperkeks' sample has been loaded into position 2.\n",
      "set(<ophyd_async.core.signal.SignalRW object at 0x7f2f924f83d0>, *({'substance': 1, 'samplepos': 3},) **{'group': 'sample'}, run=None)\n",
      "wait(None, *() **{'group': 'sample', 'timeout': None}, run=None)\n",
      "The object <ophyd_async.core.signal.SignalRW object at 0x7f2f924f83d0> reports set is done with status True\n",
      "trigger(<secop_ophyd.SECoPDevices.SECoP_CMD_Device object at 0x7f2f924f83a0>, *() **{'group': None}, run=None)\n",
      "wait(None, *() **{'group': None}, run=None)\n",
      "The object <secop_ophyd.SECoPDevices.SECoP_CMD_Device object at 0x7f2f924f83a0> reports 'trigger' is done with status True.\n",
      "A 'Edel-Vollmilch' sample has been loaded into position 3.\n",
      "No 'stop' method available on <ophyd_async.core.signal.SignalRW object at 0x7f2f924f83d0>\n",
      "Change state on <bluesky.run_engine.RunEngine object at 0x7f2fd17963e0> from 'running' -> 'idle'\n",
      "Cleaned up from plan <generator object load_samples at 0x7f2f925123b0>\n"
     ]
    },
    {
     "data": {
      "text/plain": [
       "()"
      ]
     },
     "execution_count": 3,
     "metadata": {},
     "output_type": "execute_result"
    }
   ],
   "source": [
    "\n",
    "\n",
    "\n",
    "SCHOKO_SORTEN = {\n",
    "    0:'Knusperkeks',\n",
    "    1:'Edel-Vollmilch',\n",
    "    2:'Knusperflakes',\n",
    "    3:'Nuss-Splitter',\n",
    "    4:'Nugat',\n",
    "    5:'Marzipan',\n",
    "    6:'Joghurt',\n",
    "}\n",
    "\n",
    "\n",
    "\n",
    "# Example Plan for loading samples into the robot\n",
    "def load_samples(storage, lower, upper):\n",
    "    loadshort:SECoP_CMD_Device = storage.load_short_CMD\n",
    "\n",
    "    for samplepos in range(lower,upper):\n",
    "        \n",
    "        ### populate Command arguments\n",
    "        \n",
    "        # set substance of sample\n",
    "        substance = random.randint(0,6)\n",
    "        yield from bps.abs_set(loadshort.argument,{'substance':substance,'samplepos':samplepos}, group='sample')         \n",
    "\n",
    "\n",
    "        ## wait for arguments to be set (should be instant because command args are locally saved dummy signals)\n",
    "        yield from bps.wait('sample')\n",
    "        \n",
    "\n",
    "        # Trigger command execution of _load_short command\n",
    "        yield from bps.trigger(loadshort,wait=True)        \n",
    "\n",
    "        print( 'A \\'' + SCHOKO_SORTEN[substance] + '\\' sample has been loaded into position '+ str(samplepos) + '.')\n",
    "\n",
    "\n",
    "\n",
    "## loading random samples\n",
    "RE(load_samples(storage,1,4))\n",
    "        "
   ]
  },
  {
   "cell_type": "markdown",
   "metadata": {},
   "source": [
    "### Making a Measurement (`_measure()` Command)\n",
    "\n",
    "Here a simulated EPICS detector is read while the SECoP `_measure()` Command is running. "
   ]
  },
  {
   "cell_type": "code",
   "execution_count": null,
   "metadata": {},
   "outputs": [],
   "source": [
    "def measure(sample,sample_num):\n",
    "\n",
    "    ## Sample Check\n",
    "    # check if robot is currently holding a sample and \n",
    "    # put it back into storage if its not th correct one    \n",
    "    reading = yield from bps.read(sample)\n",
    "  \n",
    "    curr_sample = reading[sample.value.name]['value']\n",
    "    \n",
    "    # holding wrong sample -->  put it back into storage\n",
    "    if curr_sample != 0 and curr_sample  != sample_num :\n",
    "        yield from bps.mv(sample,0)\n",
    "    \n",
    "    # gripper empty --> grab correct sample\n",
    "    if curr_sample == 0:\n",
    "        print('grabbing sample: '+str(i))\n",
    "        yield from bps.mv(sample,i)\n",
    "    \n",
    "    print('holding sample: '+str(i))\n",
    "    \n",
    "    @bpp.run_decorator()\n",
    "    def inner_meas(sample):\n",
    "        \n",
    "          \n",
    "        complete_status = yield from bps.trigger(sample.measure_CMD, wait=False) #This message doesn't exist yet\n",
    "        print('starting measurement')\n",
    "        \n",
    "        # While the device is still executing, read from the detectors in the detectors list\n",
    "        while not complete_status.done:\n",
    "\n",
    "            yield Msg('checkpoint') # allows us to pause the run \n",
    "            \n",
    "            yield from bps.one_shot([noisy_det0,noisy_det1,noisy_det2]) #triggers and reads everything in the detectors list\n",
    "           \n",
    "           \n",
    "            yield Msg('sleep', None, 1)       \n",
    "        \n",
    "        print('measurement done')\n",
    "            \n",
    "      \n",
    "    ### Do actual measurement ###\n",
    "    uid = yield from inner_meas(sample)\n",
    "\n",
    " \n",
    "    # put sample back into storage\n",
    "    print('putting back sample: '+str(i))\n",
    "    yield from  bps.mv(sample,0)\n",
    "\n",
    "    return uid\n",
    "\n",
    "\n",
    "\n",
    "\n",
    "for i in range(1,2):\n",
    "    #grab sample i and hold in Measurement Pos\n",
    "    RE(measure(sample,i))\n",
    "    \n"
   ]
  },
  {
   "cell_type": "markdown",
   "metadata": {},
   "source": [
    "### Plotting Detector data for the most recent Sample"
   ]
  },
  {
   "cell_type": "code",
   "execution_count": null,
   "metadata": {},
   "outputs": [],
   "source": [
    "\n",
    "run=db[-1]\n",
    "data = run.primary.read()\n",
    "data[\"noisy_det0\"].plot()\n",
    "data[\"noisy_det1\"].plot()\n",
    "data[\"noisy_det2\"].plot()\n"
   ]
  },
  {
   "cell_type": "markdown",
   "metadata": {},
   "source": [
    "# Nico SEC Node\n"
   ]
  },
  {
   "cell_type": "code",
   "execution_count": 2,
   "metadata": {},
   "outputs": [
    {
     "name": "stdout",
     "output_type": "stream",
     "text": [
      "Node_ID ready\n",
      "Property values:\n",
      "{'Node_ID-description': {'timestamp': 1705662281.3229902,\n",
      "                         'value': 'This is the node for MFC an PC (Bronkhorst '\n",
      "                                  'GmbH, Germany) where n devices (defined in '\n",
      "                                  'hardware modules.cfg) call n modules.'},\n",
      " 'Node_ID-equipment_id': {'timestamp': 1705662281.3229902, 'value': 'Node_ID'},\n",
      " 'Node_ID-firmware': {'timestamp': 1705662281.3229902,\n",
      "                      'value': 'SHALL server library (SVN378)'},\n",
      " 'Node_ID-order': {'timestamp': "
     ]
    },
    {
     "name": "stdout",
     "output_type": "stream",
     "text": [
      "1705662281.3229902,\n",
      "                   'value': ['SECoP_BH_M_0', 'SECoP_BH_M_1']}}\n",
      "Property metadata:\n",
      "{'Node_ID-description': {'dtype': 'string',\n",
      "                         'shape': [],\n",
      "                         'source': 'description'},\n",
      " 'Node_ID-equipment_id': {'dtype': 'string',\n",
      "                          'shape': [],\n",
      "                          'source': 'equipment_id'},\n",
      " 'Node_ID-firmware': {'dtype': 'string', 'shape': [], 'source': 'firmware'},\n",
      " 'Node_ID-order': {'dtype': 'array', 'shape': [], 'source': 'order'}}\n"
     ]
    }
   ],
   "source": [
    "\n",
    "\n",
    "# Connect to SEC Node and generate ophyd device tree\n",
    "\n",
    "\n",
    "node = await SECoP_Node_Device.create(url_nico,port_nico,RE.loop)\n",
    "\n",
    "\n",
    "bhm0:SECoPMoveableDevice= node.SECoP_BH_M_0\n",
    "bhm1:SECoPMoveableDevice= node.SECoP_BH_M_1\n",
    "\n",
    "print('Property values:')\n",
    "pprint(await node.read_configuration())\n",
    "print('Property metadata:')\n",
    "pprint(await node.describe_configuration())\n",
    "\n"
   ]
  },
  {
   "cell_type": "markdown",
   "metadata": {},
   "source": [
    "## SECoP_BH_M_0\n",
    "description and metadata"
   ]
  },
  {
   "cell_type": "code",
   "execution_count": 5,
   "metadata": {},
   "outputs": [
    {
     "name": "stdout",
     "output_type": "stream",
     "text": [
      "{'Node_ID-SECoP_BH_M_0-value': {'SECOP_datainfo': {'type': 'double',\n",
      "                                                   'unit': 'mln/min'},\n",
      "                                'SECoP_dtype': 'double',\n",
      "                                'description': 'actual flow',\n",
      "                                'dtype': 'number',\n",
      "                                'readonly': True,\n",
      "                                'shape': [],\n",
      "                                'source': '192.168.15.4:2201:Node_ID:SECoP_BH_M_0:value',\n",
      "                                'unit': 'mln/min'}}\n",
      "{'Node_ID-SECoP_BH_M_0-description': {'dtype': 'string',\n",
      "                                      'shape': [],\n",
      "                                      'source': 'description'},\n",
      " 'Node_ID-SECoP_BH_M_0-interface_classes': {'dtype': 'array',\n",
      "                                            'shape': [],\n",
      "                                            'source': 'interface_classes'},\n",
      " 'Node_ID-SECoP_BH_M_0-order': {'dtype': 'array',\n",
      "                                'shape': [],\n",
      "                                'source': 'order'},\n",
      " 'Node_ID-SECoP_BH_M_0-pollinterval': {'dtype': 'number',\n",
      "                                       'shape': [],\n",
      "                                       'source': 'pollinterval'}}\n"
     ]
    }
   ],
   "source": [
    "pprint(await bhm0.describe())\n",
    "pprint(await bhm0.describe_configuration())"
   ]
  },
  {
   "cell_type": "markdown",
   "metadata": {},
   "source": [
    "# SECoP_BH_M_1\n",
    "description and metadata"
   ]
  },
  {
   "cell_type": "code",
   "execution_count": null,
   "metadata": {},
   "outputs": [],
   "source": [
    "pprint(await bhm1.describe())\n",
    "pprint(await bhm1.describe_configuration())"
   ]
  },
  {
   "cell_type": "markdown",
   "metadata": {},
   "source": [
    "## Simple Move both in paralell\n"
   ]
  },
  {
   "cell_type": "code",
   "execution_count": 3,
   "metadata": {},
   "outputs": [
    {
     "name": "stdout",
     "output_type": "stream",
     "text": [
      "Executing plan <generator object mv at 0x7f2befb9ff40>\n",
      "Change state on <bluesky.run_engine.RunEngine object at 0x7f2c2c5f63e0> from 'idle' -> 'running'\n",
      "set(<secop_ophyd.SECoPDevices.SECoPMoveableDevice object at 0x7f2c30778760>, *(6.0,) **{'group': '61ed123d-d5d2-4d59-927b-6e5cb978bf69'}, run=None)\n",
      "set(<secop_ophyd.SECoPDevices.SECoPMoveableDevice object at 0x7f2befb25690>, *(0.7,) **{'group': '61ed123d-d5d2-4d59-927b-6e5cb978bf69'}, run=None)\n",
      "wait(None, *() **{'group': '61ed123d-d5d2-4d59-927b-6e5cb978bf69'}, run=None)\n",
      "The object <secop_ophyd.SECoPDevices.SECoPMoveableDevice object at 0x7f2c30778760> reports set is done with status True\n",
      "The object <secop_ophyd.SECoPDevices.SECoPMoveableDevice object at 0x7f2befb25690> reports set is done with status True\n",
      "Change state on <bluesky.run_engine.RunEngine object at 0x7f2c2c5f63e0> from 'running' -> 'idle'\n",
      "Cleaned up from plan <generator object mv at 0x7f2befb9ff40>\n"
     ]
    },
    {
     "data": {
      "text/plain": [
       "()"
      ]
     },
     "execution_count": 3,
     "metadata": {},
     "output_type": "execute_result"
    }
   ],
   "source": [
    "\n",
    "\n",
    "bhm0_target = 6.0 # ml/min\n",
    "bhm1_target = 0.7 # Bar\n",
    "\n",
    "\n",
    "# Simple Move both divables in Paralell\n",
    "RE(bps.mov(bhm0,bhm0_target,bhm1,bhm1_target))\n",
    "\n",
    "\n",
    "\n"
   ]
  },
  {
   "cell_type": "markdown",
   "metadata": {},
   "source": [
    "## Read one module while driving the other in steps"
   ]
  },
  {
   "cell_type": "code",
   "execution_count": 4,
   "metadata": {},
   "outputs": [
    {
     "name": "stdout",
     "output_type": "stream",
     "text": [
      "Executing plan <generator object scan at 0x7f2befb9f680>\n",
      "Change state on <bluesky.run_engine.RunEngine object at 0x7f2c2c5f63e0> from 'idle' -> 'running'\n",
      "stage(<secop_ophyd.SECoPDevices.SECoP_Node_Device object at 0x7f2c30778190>, *() **{'group': 'c588df8c-5705-4585-aa28-c2e3da829194'}, run=None)\n",
      "wait(None, *() **{'group': 'c588df8c-5705-4585-aa28-c2e3da829194'}, run=None)\n",
      "The object <secop_ophyd.SECoPDevices.SECoP_Node_Device object at 0x7f2c30778190> reports 'stage' is done with status True.\n",
      "open_run(None, *() **{'detectors': ['Node_ID-SECoP_BH_M_1'], 'motors': ('Node_ID-SECoP_BH_M_0',), 'num_points': 10, 'num_intervals': 9, 'plan_args': {'detectors': ['<secop_ophyd.SECoPDevices.SECoPMoveableDevice object at 0x7f2befb25690>'], 'num': 10, 'args': ['<secop_ophyd.SECoPDevices.SECoPMoveableDevice object at 0x7f2c30778760>', 5, 20], 'per_step': 'None'}, 'plan_name': 'scan', 'hints': {}, 'plan_pattern': 'inner_product', 'plan_pattern_module': 'bluesky.plan_patterns', 'plan_pattern_args': {'num': 10, 'args': ['<secop_ophyd.SECoPDevices.SECoPMoveableDevice object at 0x7f2c30778760>', 5, 20]}}, run=None)\n",
      "[start] document is emitted (run_uid='82398454-1459-49b3-903f-d4a506323b7b')\n",
      "checkpoint(None, *() **{}, run=None)\n",
      "set(<secop_ophyd.SECoPDevices.SECoPMoveableDevice object at 0x7f2c30778760>, *(5.0,) **{'group': 'set-bec9b2'}, run=None)\n",
      "wait(None, *() **{'group': 'set-bec9b2'}, run=None)\n",
      "The object <secop_ophyd.SECoPDevices.SECoPMoveableDevice object at 0x7f2c30778760> reports set is done with status True\n",
      "create(None, *() **{'name': 'primary'}, run=None)\n",
      "read(<secop_ophyd.SECoPDevices.SECoPMoveableDevice object at 0x7f2befb25690>, *() **{}, run=None)\n",
      "read(<secop_ophyd.SECoPDevices.SECoPMoveableDevice object at 0x7f2c30778760>, *() **{}, run=None)\n",
      "save(None, *() **{}, run=None)\n",
      "[descriptor] document emitted with name 'primary' containing data keys dict_keys(['Node_ID-SECoP_BH_M_1-value', 'Node_ID-SECoP_BH_M_0-value']) (run_uid='82398454-1459-49b3-903f-d4a506323b7b')\n",
      "[event] document emitted with data keys dict_keys(['Node_ID-SECoP_BH_M_1-value', 'Node_ID-SECoP_BH_M_0-value']) (run_uid='82398454-1459-49b3-903f-d4a506323b7b')\n",
      "checkpoint(None, *() **{}, run=None)\n",
      "set(<secop_ophyd.SECoPDevices.SECoPMoveableDevice object at 0x7f2c30778760>, *(6.666666666666667,) **{'group': 'set-b45dd1'}, run=None)\n",
      "wait(None, *() **{'group': 'set-b45dd1'}, run=None)\n",
      "The object <secop_ophyd.SECoPDevices.SECoPMoveableDevice object at 0x7f2c30778760> reports set is done with status True\n",
      "create(None, *() **{'name': 'primary'}, run=None)\n",
      "read(<secop_ophyd.SECoPDevices.SECoPMoveableDevice object at 0x7f2befb25690>, *() **{}, run=None)\n",
      "read(<secop_ophyd.SECoPDevices.SECoPMoveableDevice object at 0x7f2c30778760>, *() **{}, run=None)\n",
      "save(None, *() **{}, run=None)\n",
      "[event] document emitted with data keys dict_keys(['Node_ID-SECoP_BH_M_1-value', 'Node_ID-SECoP_BH_M_0-value']) (run_uid='82398454-1459-49b3-903f-d4a506323b7b')\n",
      "checkpoint(None, *() **{}, run=None)\n",
      "set(<secop_ophyd.SECoPDevices.SECoPMoveableDevice object at 0x7f2c30778760>, *(8.333333333333334,) **{'group': 'set-d1d9dd'}, run=None)\n",
      "wait(None, *() **{'group': 'set-d1d9dd'}, run=None)\n",
      "The object <secop_ophyd.SECoPDevices.SECoPMoveableDevice object at 0x7f2c30778760> reports set is done with status True\n",
      "create(None, *() **{'name': 'primary'}, run=None)\n",
      "read(<secop_ophyd.SECoPDevices.SECoPMoveableDevice object at 0x7f2befb25690>, *() **{}, run=None)\n",
      "read(<secop_ophyd.SECoPDevices.SECoPMoveableDevice object at 0x7f2c30778760>, *() **{}, run=None)\n",
      "save(None, *() **{}, run=None)\n",
      "[event] document emitted with data keys dict_keys(['Node_ID-SECoP_BH_M_1-value', 'Node_ID-SECoP_BH_M_0-value']) (run_uid='82398454-1459-49b3-903f-d4a506323b7b')\n",
      "checkpoint(None, *() **{}, run=None)\n",
      "set(<secop_ophyd.SECoPDevices.SECoPMoveableDevice object at 0x7f2c30778760>, *(10.0,) **{'group': 'set-c11b10'}, run=None)\n",
      "wait(None, *() **{'group': 'set-c11b10'}, run=None)\n",
      "The object <secop_ophyd.SECoPDevices.SECoPMoveableDevice object at 0x7f2c30778760> reports set is done with status True\n",
      "create(None, *() **{'name': 'primary'}, run=None)\n",
      "read(<secop_ophyd.SECoPDevices.SECoPMoveableDevice object at 0x7f2befb25690>, *() **{}, run=None)\n",
      "read(<secop_ophyd.SECoPDevices.SECoPMoveableDevice object at 0x7f2c30778760>, *() **{}, run=None)\n",
      "save(None, *() **{}, run=None)\n",
      "[event] document emitted with data keys dict_keys(['Node_ID-SECoP_BH_M_1-value', 'Node_ID-SECoP_BH_M_0-value']) (run_uid='82398454-1459-49b3-903f-d4a506323b7b')\n",
      "checkpoint(None, *() **{}, run=None)\n",
      "set(<secop_ophyd.SECoPDevices.SECoPMoveableDevice object at 0x7f2c30778760>, *(11.666666666666668,) **{'group': 'set-162016'}, run=None)\n",
      "wait(None, *() **{'group': 'set-162016'}, run=None)\n",
      "The object <secop_ophyd.SECoPDevices.SECoPMoveableDevice object at 0x7f2c30778760> reports set is done with status True\n",
      "create(None, *() **{'name': 'primary'}, run=None)\n",
      "read(<secop_ophyd.SECoPDevices.SECoPMoveableDevice object at 0x7f2befb25690>, *() **{}, run=None)\n",
      "read(<secop_ophyd.SECoPDevices.SECoPMoveableDevice object at 0x7f2c30778760>, *() **{}, run=None)\n",
      "save(None, *() **{}, run=None)\n",
      "[event] document emitted with data keys dict_keys(['Node_ID-SECoP_BH_M_1-value', 'Node_ID-SECoP_BH_M_0-value']) (run_uid='82398454-1459-49b3-903f-d4a506323b7b')\n",
      "checkpoint(None, *() **{}, run=None)\n",
      "set(<secop_ophyd.SECoPDevices.SECoPMoveableDevice object at 0x7f2c30778760>, *(13.333333333333334,) **{'group': 'set-adc67b'}, run=None)\n",
      "wait(None, *() **{'group': 'set-adc67b'}, run=None)\n",
      "The object <secop_ophyd.SECoPDevices.SECoPMoveableDevice object at 0x7f2c30778760> reports set is done with status True\n",
      "create(None, *() **{'name': 'primary'}, run=None)\n",
      "read(<secop_ophyd.SECoPDevices.SECoPMoveableDevice object at 0x7f2befb25690>, *() **{}, run=None)\n",
      "read(<secop_ophyd.SECoPDevices.SECoPMoveableDevice object at 0x7f2c30778760>, *() **{}, run=None)\n",
      "save(None, *() **{}, run=None)\n",
      "[event] document emitted with data keys dict_keys(['Node_ID-SECoP_BH_M_1-value', 'Node_ID-SECoP_BH_M_0-value']) (run_uid='82398454-1459-49b3-903f-d4a506323b7b')\n",
      "checkpoint(None, *() **{}, run=None)\n",
      "set(<secop_ophyd.SECoPDevices.SECoPMoveableDevice object at 0x7f2c30778760>, *(15.0,) **{'group': 'set-1efb19'}, run=None)\n",
      "wait(None, *() **{'group': 'set-1efb19'}, run=None)\n",
      "The object <secop_ophyd.SECoPDevices.SECoPMoveableDevice object at 0x7f2c30778760> reports set is done with status True\n",
      "create(None, *() **{'name': 'primary'}, run=None)\n",
      "read(<secop_ophyd.SECoPDevices.SECoPMoveableDevice object at 0x7f2befb25690>, *() **{}, run=None)\n",
      "read(<secop_ophyd.SECoPDevices.SECoPMoveableDevice object at 0x7f2c30778760>, *() **{}, run=None)\n",
      "save(None, *() **{}, run=None)\n",
      "[event] document emitted with data keys dict_keys(['Node_ID-SECoP_BH_M_1-value', 'Node_ID-SECoP_BH_M_0-value']) (run_uid='82398454-1459-49b3-903f-d4a506323b7b')\n",
      "checkpoint(None, *() **{}, run=None)\n",
      "set(<secop_ophyd.SECoPDevices.SECoPMoveableDevice object at 0x7f2c30778760>, *(16.666666666666668,) **{'group': 'set-2940d8'}, run=None)\n",
      "wait(None, *() **{'group': 'set-2940d8'}, run=None)\n",
      "The object <secop_ophyd.SECoPDevices.SECoPMoveableDevice object at 0x7f2c30778760> reports set is done with status True\n",
      "create(None, *() **{'name': 'primary'}, run=None)\n",
      "read(<secop_ophyd.SECoPDevices.SECoPMoveableDevice object at 0x7f2befb25690>, *() **{}, run=None)\n",
      "read(<secop_ophyd.SECoPDevices.SECoPMoveableDevice object at 0x7f2c30778760>, *() **{}, run=None)\n",
      "save(None, *() **{}, run=None)\n",
      "[event] document emitted with data keys dict_keys(['Node_ID-SECoP_BH_M_1-value', 'Node_ID-SECoP_BH_M_0-value']) (run_uid='82398454-1459-49b3-903f-d4a506323b7b')\n",
      "checkpoint(None, *() **{}, run=None)\n",
      "set(<secop_ophyd.SECoPDevices.SECoPMoveableDevice object at 0x7f2c30778760>, *(18.333333333333336,) **{'group': 'set-ef7bfe'}, run=None)\n",
      "wait(None, *() **{'group': 'set-ef7bfe'}, run=None)\n",
      "The object <secop_ophyd.SECoPDevices.SECoPMoveableDevice object at 0x7f2c30778760> reports set is done with status True\n",
      "create(None, *() **{'name': 'primary'}, run=None)\n",
      "read(<secop_ophyd.SECoPDevices.SECoPMoveableDevice object at 0x7f2befb25690>, *() **{}, run=None)\n",
      "read(<secop_ophyd.SECoPDevices.SECoPMoveableDevice object at 0x7f2c30778760>, *() **{}, run=None)\n",
      "save(None, *() **{}, run=None)\n",
      "[event] document emitted with data keys dict_keys(['Node_ID-SECoP_BH_M_1-value', 'Node_ID-SECoP_BH_M_0-value']) (run_uid='82398454-1459-49b3-903f-d4a506323b7b')\n",
      "checkpoint(None, *() **{}, run=None)\n",
      "set(<secop_ophyd.SECoPDevices.SECoPMoveableDevice object at 0x7f2c30778760>, *(20.0,) **{'group': 'set-5b2733'}, run=None)\n",
      "wait(None, *() **{'group': 'set-5b2733'}, run=None)\n",
      "The object <secop_ophyd.SECoPDevices.SECoPMoveableDevice object at 0x7f2c30778760> reports set is done with status True\n",
      "create(None, *() **{'name': 'primary'}, run=None)\n",
      "read(<secop_ophyd.SECoPDevices.SECoPMoveableDevice object at 0x7f2befb25690>, *() **{}, run=None)\n",
      "read(<secop_ophyd.SECoPDevices.SECoPMoveableDevice object at 0x7f2c30778760>, *() **{}, run=None)\n",
      "save(None, *() **{}, run=None)\n",
      "[event] document emitted with data keys dict_keys(['Node_ID-SECoP_BH_M_1-value', 'Node_ID-SECoP_BH_M_0-value']) (run_uid='82398454-1459-49b3-903f-d4a506323b7b')\n",
      "close_run(None, *() **{'exit_status': None, 'reason': None}, run=None)\n",
      "Stopping run '82398454-1459-49b3-903f-d4a506323b7b'\n",
      "Created Entry named '82398454-1459-49b3-903f-d4a506323b7b'\n",
      "[stop] document is emitted (run_uid='82398454-1459-49b3-903f-d4a506323b7b')\n",
      "unstage(<secop_ophyd.SECoPDevices.SECoP_Node_Device object at 0x7f2c30778190>, *() **{'group': 'e5ebe98d-828a-4a4c-a84e-dceb83ff2027'}, run=None)\n",
      "wait(None, *() **{'group': 'e5ebe98d-828a-4a4c-a84e-dceb83ff2027'}, run=None)\n",
      "The object <secop_ophyd.SECoPDevices.SECoP_Node_Device object at 0x7f2c30778190> reports 'unstage' is done with status True.\n",
      "Change state on <bluesky.run_engine.RunEngine object at 0x7f2c2c5f63e0> from 'running' -> 'idle'\n",
      "Cleaned up from plan <generator object scan at 0x7f2befb9f680>\n"
     ]
    },
    {
     "data": {
      "text/plain": [
       "('82398454-1459-49b3-903f-d4a506323b7b',)"
      ]
     },
     "execution_count": 4,
     "metadata": {},
     "output_type": "execute_result"
    }
   ],
   "source": [
    "\n",
    "# Reads SECoP_BH_M_0 ten times while bhm1 moves from 200 to 250 \n",
    "RE(scan([bhm1],bhm0,5,20,num=10))\n",
    "\n"
   ]
  },
  {
   "cell_type": "code",
   "execution_count": null,
   "metadata": {},
   "outputs": [],
   "source": [
    "run=db[-1]\n",
    "data = run.primary.read()\n",
    "data[bhm1.value.name].plot()\n"
   ]
  }
 ],
 "metadata": {
  "kernelspec": {
   "display_name": ".venv",
   "language": "python",
   "name": "python3"
  },
  "language_info": {
   "codemirror_mode": {
    "name": "ipython",
    "version": 3
   },
   "file_extension": ".py",
   "mimetype": "text/x-python",
   "name": "python",
   "nbconvert_exporter": "python",
   "pygments_lexer": "ipython3",
   "version": "3.10.12"
  }
 },
 "nbformat": 4,
 "nbformat_minor": 2
}
